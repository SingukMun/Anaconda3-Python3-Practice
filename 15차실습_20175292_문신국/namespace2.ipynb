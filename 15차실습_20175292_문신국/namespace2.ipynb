{
 "cells": [
  {
   "cell_type": "code",
   "execution_count": 1,
   "id": "bc041ed0",
   "metadata": {},
   "outputs": [
    {
     "ename": "ImportError",
     "evalue": "cannot import name 'covert_c_to_f' from 'fah_converter' (C:\\Users\\jsb21\\OneDrive\\바탕 화면\\로봇프로그래밍2\\15차실습_20175292_문신국\\fah_converter.py)",
     "output_type": "error",
     "traceback": [
      "\u001b[1;31m---------------------------------------------------------------------------\u001b[0m",
      "\u001b[1;31mImportError\u001b[0m                               Traceback (most recent call last)",
      "\u001b[1;32m<ipython-input-1-c8fd47645d80>\u001b[0m in \u001b[0;36m<module>\u001b[1;34m\u001b[0m\n\u001b[1;32m----> 1\u001b[1;33m \u001b[1;32mfrom\u001b[0m \u001b[0mfah_converter\u001b[0m \u001b[1;32mimport\u001b[0m \u001b[0mcovert_c_to_f\u001b[0m\u001b[1;33m\u001b[0m\u001b[1;33m\u001b[0m\u001b[0m\n\u001b[0m\u001b[0;32m      2\u001b[0m \u001b[0mprint\u001b[0m\u001b[1;33m(\u001b[0m\u001b[0mcovert_c_to_f\u001b[0m\u001b[1;33m(\u001b[0m\u001b[1;36m41.6\u001b[0m\u001b[1;33m)\u001b[0m\u001b[1;33m)\u001b[0m\u001b[1;33m\u001b[0m\u001b[1;33m\u001b[0m\u001b[0m\n",
      "\u001b[1;31mImportError\u001b[0m: cannot import name 'covert_c_to_f' from 'fah_converter' (C:\\Users\\jsb21\\OneDrive\\바탕 화면\\로봇프로그래밍2\\15차실습_20175292_문신국\\fah_converter.py)"
     ]
    }
   ],
   "source": [
    "from fah_converter import covert_c_to_f\n",
    "print(covert_c_to_f(41.6))"
   ]
  },
  {
   "cell_type": "code",
   "execution_count": null,
   "id": "046bfda6",
   "metadata": {},
   "outputs": [],
   "source": []
  }
 ],
 "metadata": {
  "kernelspec": {
   "display_name": "Python 3",
   "language": "python",
   "name": "python3"
  },
  "language_info": {
   "codemirror_mode": {
    "name": "ipython",
    "version": 3
   },
   "file_extension": ".py",
   "mimetype": "text/x-python",
   "name": "python",
   "nbconvert_exporter": "python",
   "pygments_lexer": "ipython3",
   "version": "3.8.10"
  }
 },
 "nbformat": 4,
 "nbformat_minor": 5
}
