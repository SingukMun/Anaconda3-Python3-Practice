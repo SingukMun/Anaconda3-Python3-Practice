{
 "cells": [
  {
   "cell_type": "code",
   "execution_count": 2,
   "id": "c821aa15",
   "metadata": {},
   "outputs": [
    {
     "name": "stdout",
     "output_type": "stream",
     "text": [
      "Tell me your age?\n",
      "30\n",
      "Oh! No. You are nat accepted.\n"
     ]
    }
   ],
   "source": [
    "print(\"Tell me your age?\")\n",
    "myage = int(input())\n",
    "if myage <30:\n",
    "    print(\"Welcome to the club\")\n",
    "else:\n",
    "    print(\"Oh! No. You are nat accepted.\")"
   ]
  },
  {
   "cell_type": "code",
   "execution_count": 4,
   "id": "58c19ade",
   "metadata": {},
   "outputs": [
    {
     "data": {
      "text/plain": [
       "False"
      ]
     },
     "execution_count": 4,
     "metadata": {},
     "output_type": "execute_result"
    }
   ],
   "source": [
    "a=8\n",
    "b=5\n",
    "a==8 and b==4"
   ]
  },
  {
   "cell_type": "code",
   "execution_count": 5,
   "id": "38f00bd8",
   "metadata": {},
   "outputs": [
    {
     "data": {
      "text/plain": [
       "True"
      ]
     },
     "execution_count": 5,
     "metadata": {},
     "output_type": "execute_result"
    }
   ],
   "source": [
    "a>7 or b>7"
   ]
  },
  {
   "cell_type": "code",
   "execution_count": 6,
   "id": "ff4115ef",
   "metadata": {},
   "outputs": [
    {
     "data": {
      "text/plain": [
       "False"
      ]
     },
     "execution_count": 6,
     "metadata": {},
     "output_type": "execute_result"
    }
   ],
   "source": [
    "not(a>7)"
   ]
  },
  {
   "cell_type": "code",
   "execution_count": 14,
   "id": "e24a2159",
   "metadata": {},
   "outputs": [
    {
     "name": "stdout",
     "output_type": "stream",
     "text": [
      "점수를 입력하시오 :78\n",
      "Your grade is C\n"
     ]
    }
   ],
   "source": [
    "score = int(input(\"점수를 입력하시오 :\"))\n",
    "if score>=90 :\n",
    "    print (\"Your grade is A\")\n",
    "elif score>=80 :\n",
    "    print (\"Your grade is B\")\n",
    "elif score>=70 :\n",
    "    print (\"Your grade is C\")\n",
    "elif score>=60 :\n",
    "    print (\"Your grade is D\")\n",
    "else :\n",
    "    print (\"Your grade is F\")"
   ]
  },
  {
   "cell_type": "code",
   "execution_count": 22,
   "id": "62dcf609",
   "metadata": {},
   "outputs": [
    {
     "name": "stdout",
     "output_type": "stream",
     "text": [
      "태어난 연도를 입력하시오 : \n",
      "1973\n",
      "당신은 학생이 아닙니다.\n"
     ]
    }
   ],
   "source": [
    "print(\"태어난 연도를 입력하시오 : \")\n",
    "birthyear = input()\n",
    "myage = 2021 - int(birthyear) + 1\n",
    "\n",
    "if myage <= 26 and myage >=20 :\n",
    "    print(\"당신은 대학생입니다.\")\n",
    "elif myage < 20 and myage >=17 :\n",
    "    print(\"당신은 고등학생입니다.\")\n",
    "elif myage < 17 and myage >=14 :\n",
    "    print(\"당신은 중학생입니다.\")\n",
    "elif myage < 14 and myage >=8 :\n",
    "    print(\"당신은 초등학생입니다.\")\n",
    "else :\n",
    "    print(\"당신은 학생이 아닙니다.\")"
   ]
  },
  {
   "cell_type": "code",
   "execution_count": null,
   "id": "6e13f021",
   "metadata": {},
   "outputs": [],
   "source": []
  },
  {
   "cell_type": "code",
   "execution_count": null,
   "id": "57edab75",
   "metadata": {},
   "outputs": [],
   "source": []
  }
 ],
 "metadata": {
  "kernelspec": {
   "display_name": "Python 3",
   "language": "python",
   "name": "python3"
  },
  "language_info": {
   "codemirror_mode": {
    "name": "ipython",
    "version": 3
   },
   "file_extension": ".py",
   "mimetype": "text/x-python",
   "name": "python",
   "nbconvert_exporter": "python",
   "pygments_lexer": "ipython3",
   "version": "3.8.10"
  }
 },
 "nbformat": 4,
 "nbformat_minor": 5
}
