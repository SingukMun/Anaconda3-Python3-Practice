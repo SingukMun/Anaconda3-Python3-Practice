{
 "cells": [
  {
   "cell_type": "code",
   "execution_count": 5,
   "id": "ccf036a4",
   "metadata": {},
   "outputs": [
    {
     "name": "stdout",
     "output_type": "stream",
     "text": [
      "I got my peaches out in Georgia (Oh, yeah, shit)\n",
      "I get my weed from California (That's that shit)\n",
      "I took my chick up to the North, yeah (Bad-ass bitch)\n",
      "I get my light right from the source, yeah (Yeah, that’s it)\n"
     ]
    }
   ],
   "source": [
    "f = open(\"dream.txt\", \"r\", encoding='UTF-8')\n",
    "contents = f.read()\n",
    "print(contents)\n",
    "f.close()"
   ]
  },
  {
   "cell_type": "code",
   "execution_count": 9,
   "id": "f8ca1d24",
   "metadata": {},
   "outputs": [
    {
     "name": "stdout",
     "output_type": "stream",
     "text": [
      "<class 'str'> I got my peaches out in Georgia (Oh, yeah, shit)\n",
      "I get my weed from California (That's that shit)\n",
      "I took my chick up to the North, yeah (Bad-ass bitch)\n",
      "I get my light right from the source, yeah (Yeah, that’s it)\n"
     ]
    }
   ],
   "source": [
    "with open(\"dream.txt\", \"r\", encoding='UTF-8') as my_file:\n",
    "    contents = my_file.read()\n",
    "    print(type(contents), contents)"
   ]
  },
  {
   "cell_type": "code",
   "execution_count": 13,
   "id": "5309e82e",
   "metadata": {},
   "outputs": [
    {
     "name": "stdout",
     "output_type": "stream",
     "text": [
      "<class 'list'>\n",
      "['I got my peaches out in Georgia (Oh, yeah, shit)\\n', \"I get my weed from California\\u2005(That's\\u2005that shit)\\n\", 'I took\\u2005my chick up to the North,\\u2005yeah (Bad-ass bitch)\\n', 'I get my light right from the source, yeah (Yeah, that’s it)']\n"
     ]
    }
   ],
   "source": [
    "with open(\"dream.txt\", \"r\", encoding='UTF-8') as my_file:\n",
    "    content_list = my_file.readlines()\n",
    "    print(type(content_list))\n",
    "    print(content_list)"
   ]
  },
  {
   "cell_type": "code",
   "execution_count": 17,
   "id": "c93a90b0",
   "metadata": {},
   "outputs": [
    {
     "name": "stdout",
     "output_type": "stream",
     "text": [
      "0 === I got my peaches out in Georgia (Oh, yeah, shit)\n",
      "1 === I get my weed from California (That's that shit)\n",
      "2 === I took my chick up to the North, yeah (Bad-ass bitch)\n",
      "3 === I get my light right from the source, yeah (Yeah, that’s it)\n"
     ]
    }
   ],
   "source": [
    "with open(\"dream.txt\", \"r\", encoding='UTF-8') as my_file:\n",
    "    i=0\n",
    "    while 1:\n",
    "        line=my_file.readline()\n",
    "        if not line:\n",
    "            break\n",
    "        print(str(i)+\" === \" + line.replace(\"\\n\",\"\"))\n",
    "        i=i+1"
   ]
  },
  {
   "cell_type": "code",
   "execution_count": 19,
   "id": "e1916b27",
   "metadata": {},
   "outputs": [
    {
     "name": "stdout",
     "output_type": "stream",
     "text": [
      "총 글자의 수 :  212\n",
      "총 단어의 수 :  35\n",
      "총 줄의 수 :  4\n"
     ]
    }
   ],
   "source": [
    "with open(\"dream.txt\", \"r\", encoding='UTF-8') as my_file:\n",
    "    contents = my_file.read()\n",
    "    word_list = contents.split(\" \")\n",
    "    line_list = contents.split(\"\\n\")\n",
    "    \n",
    "print(\"총 글자의 수 : \", len(contents))\n",
    "print(\"총 단어의 수 : \", len(word_list))\n",
    "print(\"총 줄의 수 : \", len(line_list))"
   ]
  },
  {
   "cell_type": "code",
   "execution_count": 26,
   "id": "4a4d2ec8",
   "metadata": {},
   "outputs": [],
   "source": [
    "f= open(\"count_log.txt\", \"a\", encoding='utf8')\n",
    "for i in range(1,11):\n",
    "    date = \"%d번째 줄이다.\\n\"%i\n",
    "    #date = \"%d메롱\\n\"%i\n",
    "    f.write(date)\n",
    "f.close()"
   ]
  },
  {
   "cell_type": "code",
   "execution_count": 29,
   "id": "7fd71adb",
   "metadata": {},
   "outputs": [],
   "source": [
    "with open(\"count_log.txt\", 'a', encoding = 'utf8')as f:\n",
    "    for i in range(1,11):\n",
    "        date = \"%d번째 줄이다. \\n\"%i\n",
    "        f.write(date)"
   ]
  },
  {
   "cell_type": "code",
   "execution_count": 30,
   "id": "8f9f8e85",
   "metadata": {},
   "outputs": [],
   "source": [
    "import os\n",
    "\n",
    "if not os.path.isdir(\"log\"):\n",
    "    os.mkdir(\"log\")\n",
    "    \n",
    "if not os.path.exists(\"log/count_log.txt\"):\n",
    "    f = open(\"log/count_log.txt\", 'w', encoding = 'utf8')\n",
    "    f.write(\"기록이시작된다. \\n\")\n",
    "    f.close()\n",
    "    \n",
    "with open(\"log/count_log.txt\", 'a', encoding = 'utf8') as f:\n",
    "    import random, datetime\n",
    "    for i in range(1, 11):\n",
    "        stamp = str(datetime.datetime.now())\n",
    "        value = random.random() * 1000000\n",
    "        log_line = stamp + \"\\t\" + str(value) + '값이 생성되었다.' +\"\\n\"\n",
    "        f.write(log_line)"
   ]
  },
  {
   "cell_type": "code",
   "execution_count": null,
   "id": "b32912e4",
   "metadata": {},
   "outputs": [],
   "source": []
  }
 ],
 "metadata": {
  "kernelspec": {
   "display_name": "Python 3",
   "language": "python",
   "name": "python3"
  },
  "language_info": {
   "codemirror_mode": {
    "name": "ipython",
    "version": 3
   },
   "file_extension": ".py",
   "mimetype": "text/x-python",
   "name": "python",
   "nbconvert_exporter": "python",
   "pygments_lexer": "ipython3",
   "version": "3.8.10"
  }
 },
 "nbformat": 4,
 "nbformat_minor": 5
}
