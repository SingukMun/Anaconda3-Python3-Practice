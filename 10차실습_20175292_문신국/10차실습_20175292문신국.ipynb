{
 "cells": [
  {
   "cell_type": "code",
   "execution_count": 17,
   "id": "f76bd1fd",
   "metadata": {},
   "outputs": [
    {
     "name": "stdout",
     "output_type": "stream",
     "text": [
      "현재 선수의 등번호는 :  10\n",
      "선수의 등번호를 변경한다 : From 10 to 5\n",
      "현재 선수의 등번호는 :  5\n",
      "Hello, My name is Jinhyun. I play in MF in center.\n"
     ]
    }
   ],
   "source": [
    "class SoccerPlayer(object):\n",
    "    def __init__(self,name,position,back_number):\n",
    "        self.name = name\n",
    "        self.position = position\n",
    "        self.back_number = back_number\n",
    "    def change_back_number(self, new_number):\n",
    "        print(\"선수의 등번호를 변경한다 : From %d to %d\" %(self.back_number, new_number))\n",
    "        self.back_number = new_number\n",
    "    def __str__(self):\n",
    "        return \"Hello, My name is %s. I play in %s in center.\" %(self.name, self.position)\n",
    "\n",
    "jinhyun = SoccerPlayer(\"Jinhyun\",\"MF\",10)\n",
    "\n",
    "print(\"현재 선수의 등번호는 : \", jinhyun.back_number)\n",
    "jinhyun.change_back_number(5)\n",
    "print(\"현재 선수의 등번호는 : \", jinhyun.back_number)\n",
    "print(jinhyun)"
   ]
  },
  {
   "cell_type": "code",
   "execution_count": 18,
   "id": "6eddea1f",
   "metadata": {},
   "outputs": [
    {
     "name": "stdout",
     "output_type": "stream",
     "text": [
      "[['Messi', 'MF', 10], ['Ramos', 'DF', 4], ['Ronaldo', 'CF', 7], ['park', 'WF', 13], ['Buffon', 'GK', 1]]\n",
      "['Messi', 'MF', 10]\n"
     ]
    }
   ],
   "source": [
    "names = [\"Messi\", \"Ramos\", \"Ronaldo\", \"park\", \"Buffon\"]\n",
    "positions = [\"MF\", \"DF\", \"CF\", \"WF\", \"GK\"]\n",
    "numbers = [10, 4, 7, 13, 1]\n",
    "\n",
    "players = [[name, position, number] for name, position, number in zip(names, positions, numbers)]\n",
    "print(players)\n",
    "print(players[0])"
   ]
  },
  {
   "cell_type": "code",
   "execution_count": 21,
   "id": "5430b165",
   "metadata": {},
   "outputs": [
    {
     "name": "stdout",
     "output_type": "stream",
     "text": [
      "[['Messi', 'MF', 10], ['Ramos', 'DF', 4], ['Ronaldo', 'CF', 7], ['park', 'WF', 13], ['Buffon', 'GK', 1]]\n",
      "['Messi', 'MF', 10]\n",
      "Hello, My name is Messi. I play in MF in center.\n"
     ]
    }
   ],
   "source": [
    "names = [\"Messi\", \"Ramos\", \"Ronaldo\", \"park\", \"Buffon\"]\n",
    "positions = [\"MF\", \"DF\", \"CF\", \"WF\", \"GK\"]\n",
    "numbers = [10, 4, 7, 13, 1]\n",
    "\n",
    "players = [[name, position, number] for name, position, number in zip(names, positions, numbers)]\n",
    "print(players)\n",
    "print(players[0])\n",
    "\n",
    "class SoccerPlayer(object):\n",
    "    def __init__(self,name,position,back_number):\n",
    "        self.name = name\n",
    "        self.position = position\n",
    "        self.back_number = back_number\n",
    "    def change_back_number(self, new_number):\n",
    "        print(\"선수의 등번호를 변경한다 : From %d to %d\" %(self.back_number, new_number))\n",
    "        self.back_number = new_number\n",
    "    def __str__(self):\n",
    "        return \"Hello, My name is %s. I play in %s in center.\" %(self.name, self.position)\n",
    "\n",
    "player_objects = [SoccerPlayer(name, position, number) for name, position, number in zip(names, positions, numbers)]\n",
    "print(player_objects[0])"
   ]
  },
  {
   "cell_type": "code",
   "execution_count": null,
   "id": "86fc9b77",
   "metadata": {},
   "outputs": [],
   "source": [
    "class Calculator(A) :\n",
    "    def __init__(self):\n",
    "        def add(B) :\n",
    "            result = "
   ]
  },
  {
   "cell_type": "code",
   "execution_count": 26,
   "id": "85a52664",
   "metadata": {},
   "outputs": [
    {
     "name": "stdout",
     "output_type": "stream",
     "text": [
      "5\n"
     ]
    },
    {
     "ename": "NameError",
     "evalue": "name 'self' is not defined",
     "output_type": "error",
     "traceback": [
      "\u001b[1;31m---------------------------------------------------------------------------\u001b[0m",
      "\u001b[1;31mNameError\u001b[0m                                 Traceback (most recent call last)",
      "\u001b[1;32m<ipython-input-26-fd0521cf5f5e>\u001b[0m in \u001b[0;36m<module>\u001b[1;34m\u001b[0m\n\u001b[0;32m     15\u001b[0m         \u001b[0mself\u001b[0m\u001b[1;33m.\u001b[0m\u001b[0mA\u001b[0m \u001b[1;33m/=\u001b[0m \u001b[0mB\u001b[0m\u001b[1;33m\u001b[0m\u001b[1;33m\u001b[0m\u001b[0m\n\u001b[0;32m     16\u001b[0m \u001b[1;33m\u001b[0m\u001b[0m\n\u001b[1;32m---> 17\u001b[1;33m \u001b[0mprint\u001b[0m\u001b[1;33m(\u001b[0m\u001b[1;34m\"계산된 결과는 %d 입니다.\"\u001b[0m \u001b[1;33m%\u001b[0m \u001b[1;33m(\u001b[0m\u001b[0mself\u001b[0m\u001b[1;33m.\u001b[0m\u001b[0mA\u001b[0m\u001b[1;33m)\u001b[0m\u001b[1;33m)\u001b[0m\u001b[1;33m\u001b[0m\u001b[1;33m\u001b[0m\u001b[0m\n\u001b[0m",
      "\u001b[1;31mNameError\u001b[0m: name 'self' is not defined"
     ]
    }
   ],
   "source": [
    "class Caculator():\n",
    "    A = int(input())\n",
    "    \n",
    "    def add(self, B) :\n",
    "        B = int(input())\n",
    "        self.A += B\n",
    "    def sub(self, B) :\n",
    "        B = int(input())\n",
    "        self.A -= B\n",
    "    def mul(self, B) :\n",
    "        B = int(input())\n",
    "        self.A *= B\n",
    "    def div(self, B) :\n",
    "        B = int(input())\n",
    "        self.A /= B\n",
    "        \n",
    "print(\"계산된 결과는 %d 입니다.\" % (self.A))"
   ]
  },
  {
   "cell_type": "code",
   "execution_count": 27,
   "id": "02e4e455",
   "metadata": {},
   "outputs": [
    {
     "ename": "IndentationError",
     "evalue": "expected an indented block (<ipython-input-27-d67a8d8613ff>, line 3)",
     "output_type": "error",
     "traceback": [
      "\u001b[1;36m  File \u001b[1;32m\"<ipython-input-27-d67a8d8613ff>\"\u001b[1;36m, line \u001b[1;32m3\u001b[0m\n\u001b[1;33m    A = int(input())\u001b[0m\n\u001b[1;37m    ^\u001b[0m\n\u001b[1;31mIndentationError\u001b[0m\u001b[1;31m:\u001b[0m expected an indented block\n"
     ]
    }
   ],
   "source": [
    "class Caculator():\n",
    "    def __init__(self,add,sub,mul,div):\n",
    "    self.add = \n",
    "    \n",
    "    def add(self, B) :\n",
    "        B = int(input())\n",
    "        self.A += B\n",
    "    def sub(self, B) :\n",
    "        B = int(input())\n",
    "        self.A -= B\n",
    "    def mul(self, B) :\n",
    "        B = int(input())\n",
    "        self.A *= B\n",
    "    def div(self, B) :\n",
    "        B = int(input())\n",
    "        self.A /= B\n",
    "        \n",
    "print(\"계산된 결과는 %d 입니다.\" % (self.A))"
   ]
  },
  {
   "cell_type": "code",
   "execution_count": 34,
   "id": "e4d8a5f3",
   "metadata": {},
   "outputs": [
    {
     "name": "stdout",
     "output_type": "stream",
     "text": [
      "덧셈 :  10\n",
      "뺄셈 :  5\n",
      "곱셈 :  25\n",
      "나눗셈 :  5\n"
     ]
    }
   ],
   "source": [
    "class calculate() :\n",
    "    def __init__(self, value):\n",
    "        self.value = value\n",
    "        \n",
    "    def add(self, A) :\n",
    "        self.value +=A\n",
    "        return self.value\n",
    "    def sub(self, A) :\n",
    "        self.value -=A\n",
    "        return self.value\n",
    "    def mul(self, A) :\n",
    "        self.value *=A\n",
    "        return self.value\n",
    "    def div(self, A) :\n",
    "        self.value //=A\n",
    "        return self.value\n",
    "\n",
    "cal = calculate(5)\n",
    "print('덧셈 : ', cal.add(5))\n",
    "print('뺄셈 : ', cal.sub(5))\n",
    "print('곱셈 : ', cal.mul(5))\n",
    "print('나눗셈 : ', cal.div(5))"
   ]
  },
  {
   "cell_type": "code",
   "execution_count": null,
   "id": "e6888784",
   "metadata": {},
   "outputs": [],
   "source": []
  }
 ],
 "metadata": {
  "kernelspec": {
   "display_name": "Python 3",
   "language": "python",
   "name": "python3"
  },
  "language_info": {
   "codemirror_mode": {
    "name": "ipython",
    "version": 3
   },
   "file_extension": ".py",
   "mimetype": "text/x-python",
   "name": "python",
   "nbconvert_exporter": "python",
   "pygments_lexer": "ipython3",
   "version": "3.8.10"
  }
 },
 "nbformat": 4,
 "nbformat_minor": 5
}
