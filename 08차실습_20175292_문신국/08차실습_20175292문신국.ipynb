{
 "cells": [
  {
   "cell_type": "code",
   "execution_count": 1,
   "id": "3f0d7a85",
   "metadata": {},
   "outputs": [
    {
     "name": "stdout",
     "output_type": "stream",
     "text": [
      "16 40\n"
     ]
    }
   ],
   "source": [
    "sec = 1000\n",
    "min = 1000//60\n",
    "remainder = 1000%60\n",
    "print(min, remainder)"
   ]
  },
  {
   "cell_type": "code",
   "execution_count": 7,
   "id": "29b67337",
   "metadata": {},
   "outputs": [
    {
     "name": "stdout",
     "output_type": "stream",
     "text": [
      "아메리카노 판매 개수 : \n",
      "10\n",
      "카페라뗴 판매 개수 : \n",
      "20\n",
      "카푸치노 판매 개수 : \n",
      "30\n",
      "총매출은 185000 입니다.\n"
     ]
    }
   ],
   "source": [
    "print(\"아메리카노 판매 개수 : \")\n",
    "a = input()\n",
    "print(\"카페라뗴 판매 개수 : \")\n",
    "b = input()\n",
    "print(\"카푸치노 판매 개수 : \")\n",
    "c = input()\n",
    "\n",
    "total = int(a)*2000 + int(b)*3000 + int(c)*3500\n",
    "print(\"총매출은\",total,\"입니다.\")"
   ]
  },
  {
   "cell_type": "code",
   "execution_count": 9,
   "id": "73b7f989",
   "metadata": {},
   "outputs": [
    {
     "name": "stdout",
     "output_type": "stream",
     "text": [
      "아메리카노 판매 개수 : 10\n",
      "카페라떼 판매 개수 : 20\n",
      "카푸치노 판매 개수 : 30\n",
      "총매출은 185000 입니다.\n"
     ]
    }
   ],
   "source": [
    "americano_price = 2000\n",
    "cafelatte_price = 3000\n",
    "capucino_price = 3500\n",
    "\n",
    "americanos = int(input(\"아메리카노 판매 개수 : \"))\n",
    "cafelattes = int(input(\"카페라떼 판매 개수 : \"))\n",
    "capucinos = int(input(\"카푸치노 판매 개수 : \"))\n",
    "\n",
    "sales = americanos*americano_price\n",
    "sales = sales+cafelattes*cafelatte_price\n",
    "sales = sales+capucinos*capucino_price\n",
    "print(\"총매출은\",sales,\"입니다.\")"
   ]
  },
  {
   "cell_type": "code",
   "execution_count": 12,
   "id": "df416a6a",
   "metadata": {},
   "outputs": [
    {
     "name": "stdout",
     "output_type": "stream",
     "text": [
      "커피 판매 개수 : \n",
      "10\n",
      "커피 판매 개수 : \n",
      "20\n",
      "커피 판매 개수 : \n",
      "30\n",
      "총매출은 185000 입니다.\n"
     ]
    }
   ],
   "source": [
    "price = [2000, 3000, 3500]\n",
    "coffee = ['아메리카노', '카페라떼', '카푸치노']\n",
    "number = [0, 0, 0]\n",
    "for i in range(3) :\n",
    "    print(\"커피 판매 개수 : \")\n",
    "    number[i] = int(input())\n",
    "sales = 0\n",
    "for i in range(3):\n",
    "    sales += price[i]*number[i]\n",
    "\n",
    "print(\"총매출은\",sales, \"입니다.\")"
   ]
  },
  {
   "cell_type": "code",
   "execution_count": 20,
   "id": "9ad50bb7",
   "metadata": {},
   "outputs": [
    {
     "name": "stdout",
     "output_type": "stream",
     "text": [
      "몸무게를 입력하세요 : 70\n",
      "키를 미터 단위로 입력하시오 : 1.75\n",
      "당신의 BMI= 22.857142857142858\n"
     ]
    }
   ],
   "source": [
    "weight = float(input(\"몸무게를 입력하세요 : \"))\n",
    "height = float(input(\"키를 미터 단위로 입력하시오 : \"))\n",
    "BMI = weight / (height*height)\n",
    "print(\"당신의 BMI=\",BMI)"
   ]
  },
  {
   "cell_type": "code",
   "execution_count": 28,
   "id": "9fd519de",
   "metadata": {},
   "outputs": [
    {
     "name": "stdout",
     "output_type": "stream",
     "text": [
      "투입한 돈 : 10000\n",
      "물건값 : 8200\n",
      "거스름 돈 :  1800\n",
      "500원 동전의 개수 :  3\n",
      "100원 동전의 개수 :  3\n"
     ]
    }
   ],
   "source": [
    "in_coin = int(input(\"투입한 돈 : \"))\n",
    "choice_price = int(input(\"물건값 : \"))\n",
    "out_coin = in_coin-choice_price\n",
    "print(\"거스름 돈 : \", out_coin)\n",
    "\n",
    "coin500 = out_coin // 500\n",
    "out_coin = out_coin % 500\n",
    "coin100 = out_coin // 100\n",
    "\n",
    "print(\"500원 동전의 개수 : \", coin500)\n",
    "print(\"100원 동전의 개수 : \", coin100)"
   ]
  },
  {
   "cell_type": "code",
   "execution_count": 31,
   "id": "cdc339ff",
   "metadata": {},
   "outputs": [
    {
     "name": "stdout",
     "output_type": "stream",
     "text": [
      "아메리카노 판매 개수 : \n",
      "10\n",
      "카페라뗴 판매 개수 : \n",
      "20\n",
      "카푸치노 판매 개수 : \n",
      "30\n",
      "총매출은 185000 입니다.\n",
      "오늘의 이익은 85000 입니다.\n",
      "오늘은 흑자입니다.\n"
     ]
    }
   ],
   "source": [
    "print(\"아메리카노 판매 개수 : \")\n",
    "a = input()\n",
    "print(\"카페라뗴 판매 개수 : \")\n",
    "b = input()\n",
    "print(\"카푸치노 판매 개수 : \")\n",
    "c = input()\n",
    "\n",
    "total = int(a)*2000 + int(b)*3000 + int(c)*3500\n",
    "print(\"총매출은\",total,\"입니다.\")\n",
    "\n",
    "profit = total-100000\n",
    "if profit > 0 :\n",
    "    print('오늘의 이익은', profit,'입니다.')\n",
    "    print(\"오늘은 흑자입니다.\")\n",
    "else :\n",
    "    print('오늘의 이익은', profit,'입니다.')\n",
    "    print(\"오늘은 적자입니다.\")"
   ]
  },
  {
   "cell_type": "code",
   "execution_count": 53,
   "id": "047f46d2",
   "metadata": {},
   "outputs": [
    {
     "name": "stdout",
     "output_type": "stream",
     "text": [
      "투입한 돈 : 10000\n",
      "물건값 : 7880\n",
      "거스름 돈 :  2120\n",
      "500원 동전의 개수 :  4\n",
      "100원 동전의 개수 :  100\n",
      "50원 동전의 개수 :  50\n",
      "10원 동전의 개수 :  10\n"
     ]
    }
   ],
   "source": [
    "in_coin = int(input(\"투입한 돈 : \"))\n",
    "choice_price = int(input(\"물건값 : \"))\n",
    "out_coin = in_coin-choice_price\n",
    "print(\"거스름 돈 : \", out_coin)\n",
    "\n",
    "coin = [500, 100, 50, 10]\n",
    "for i in range(0,4,1):\n",
    "    coin[i] = out_coin // coin[i]\n",
    "    out_coin = out_coin % coin[i]\n",
    "    if out_coin < 1 :\n",
    "        break\n",
    "\n",
    "print(\"500원 동전의 개수 : \", coin[0])\n",
    "print(\"100원 동전의 개수 : \", coin[1])\n",
    "print(\"50원 동전의 개수 : \", coin[2])\n",
    "print(\"10원 동전의 개수 : \", coin[3])"
   ]
  },
  {
   "cell_type": "code",
   "execution_count": 60,
   "id": "5f150bbf",
   "metadata": {},
   "outputs": [
    {
     "name": "stdout",
     "output_type": "stream",
     "text": [
      "투입한 돈 : 10000\n",
      "물건값 : 8450\n",
      "거스름 돈 :  1550\n",
      "500원 동전의 개수 :  3\n",
      "100원 동전의 개수 :  0\n",
      "50원 동전의 개수 :  1\n",
      "10원 동전의 개수 :  0\n"
     ]
    }
   ],
   "source": [
    "in_coin = int(input(\"투입한 돈 : \"))\n",
    "choice_price = int(input(\"물건값 : \"))\n",
    "out_coin = in_coin-choice_price\n",
    "print(\"거스름 돈 : \", out_coin)\n",
    "\n",
    "coin = [0,0,0,0]\n",
    "coin_number=[500, 100, 50,10]\n",
    "for i in range(4) :\n",
    "    coin[i]=out_coin // coin_number[i]\n",
    "    out_coin = out_coin % coin_number[i]\n",
    "\n",
    "\n",
    "print(\"500원 동전의 개수 : \", coin[0])\n",
    "print(\"100원 동전의 개수 : \", coin[1])\n",
    "print(\"50원 동전의 개수 : \", coin[2])\n",
    "print(\"10원 동전의 개수 : \", coin[3])"
   ]
  },
  {
   "cell_type": "code",
   "execution_count": null,
   "id": "e0337f1d",
   "metadata": {},
   "outputs": [],
   "source": []
  }
 ],
 "metadata": {
  "kernelspec": {
   "display_name": "Python 3",
   "language": "python",
   "name": "python3"
  },
  "language_info": {
   "codemirror_mode": {
    "name": "ipython",
    "version": 3
   },
   "file_extension": ".py",
   "mimetype": "text/x-python",
   "name": "python",
   "nbconvert_exporter": "python",
   "pygments_lexer": "ipython3",
   "version": "3.8.10"
  }
 },
 "nbformat": 4,
 "nbformat_minor": 5
}
