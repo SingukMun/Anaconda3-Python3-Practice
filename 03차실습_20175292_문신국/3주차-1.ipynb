{
 "cells": [
  {
   "cell_type": "code",
   "execution_count": 1,
   "id": "c74aeac0",
   "metadata": {},
   "outputs": [
    {
     "name": "stdout",
     "output_type": "stream",
     "text": [
      "Enter tour name\n",
      "Singuk Mun\n"
     ]
    },
    {
     "ename": "NameError",
     "evalue": "name 'sombody' is not defined",
     "output_type": "error",
     "traceback": [
      "\u001b[1;31m---------------------------------------------------------------------------\u001b[0m",
      "\u001b[1;31mNameError\u001b[0m                                 Traceback (most recent call last)",
      "\u001b[1;32m<ipython-input-1-b0dd033e1774>\u001b[0m in \u001b[0;36m<module>\u001b[1;34m\u001b[0m\n\u001b[0;32m      1\u001b[0m \u001b[0mprint\u001b[0m\u001b[1;33m(\u001b[0m\u001b[1;34m'Enter tour name'\u001b[0m\u001b[1;33m)\u001b[0m\u001b[1;33m\u001b[0m\u001b[1;33m\u001b[0m\u001b[0m\n\u001b[0;32m      2\u001b[0m \u001b[0msomebody\u001b[0m \u001b[1;33m=\u001b[0m \u001b[0minput\u001b[0m\u001b[1;33m(\u001b[0m\u001b[1;33m)\u001b[0m\u001b[1;33m\u001b[0m\u001b[1;33m\u001b[0m\u001b[0m\n\u001b[1;32m----> 3\u001b[1;33m \u001b[0mprint\u001b[0m \u001b[1;33m(\u001b[0m\u001b[1;34m'Hi'\u001b[0m\u001b[1;33m,\u001b[0m \u001b[0msombody\u001b[0m\u001b[1;33m,\u001b[0m \u001b[1;34m'How are you today?'\u001b[0m\u001b[1;33m)\u001b[0m\u001b[1;33m\u001b[0m\u001b[1;33m\u001b[0m\u001b[0m\n\u001b[0m",
      "\u001b[1;31mNameError\u001b[0m: name 'sombody' is not defined"
     ]
    }
   ],
   "source": [
    "print('Enter tour name')\n",
    "somebody = input()\n",
    "print ('Hi', sombody, 'How are you today?')"
   ]
  },
  {
   "cell_type": "code",
   "execution_count": 2,
   "id": "19d5af24",
   "metadata": {},
   "outputs": [
    {
     "name": "stdout",
     "output_type": "stream",
     "text": [
      "Enter tour name\n",
      "Singuk Mun\n",
      "Hi Singuk Mun How are you today?\n"
     ]
    }
   ],
   "source": [
    "print('Enter tour name')\n",
    "somebody = input()\n",
    "print ('Hi', somebody, 'How are you today?')"
   ]
  },
  {
   "cell_type": "code",
   "execution_count": 3,
   "id": "4969c23f",
   "metadata": {},
   "outputs": [
    {
     "name": "stdout",
     "output_type": "stream",
     "text": [
      "Enter your number10\n"
     ]
    },
    {
     "data": {
      "text/plain": [
       "str"
      ]
     },
     "execution_count": 3,
     "metadata": {},
     "output_type": "execute_result"
    }
   ],
   "source": [
    "a=input('Enter your number')\n",
    "type(a)"
   ]
  },
  {
   "cell_type": "markdown",
   "id": "833764b1",
   "metadata": {},
   "source": [
    "temperature = input('온도를입력하세요;')\n",
    "type(temperature)\n",
    "print(temperature)\n",
    "temperature = float(temperature)\n",
    "type(temperature)"
   ]
  },
  {
   "cell_type": "code",
   "execution_count": 4,
   "id": "0b90d434",
   "metadata": {},
   "outputs": [
    {
     "name": "stdout",
     "output_type": "stream",
     "text": [
      "온도를입력하세요;10.3\n",
      "10.3\n"
     ]
    },
    {
     "data": {
      "text/plain": [
       "float"
      ]
     },
     "execution_count": 4,
     "metadata": {},
     "output_type": "execute_result"
    }
   ],
   "source": [
    "temperature = input('온도를입력하세요;')\n",
    "type(temperature)\n",
    "print(temperature)\n",
    "temperature = float(temperature)\n",
    "type(temperature)"
   ]
  },
  {
   "cell_type": "code",
   "execution_count": 6,
   "id": "8be8acff",
   "metadata": {},
   "outputs": [
    {
     "name": "stdout",
     "output_type": "stream",
     "text": [
      "온도를입력하세요;10\n",
      "10\n"
     ]
    },
    {
     "data": {
      "text/plain": [
       "float"
      ]
     },
     "execution_count": 6,
     "metadata": {},
     "output_type": "execute_result"
    }
   ],
   "source": [
    "temperature = input('온도를입력하세요;')\n",
    "type(temperature)\n",
    "print(temperature)\n",
    "temperature = float(temperature)\n",
    "type(temperature)"
   ]
  },
  {
   "cell_type": "code",
   "execution_count": null,
   "id": "f862fabd",
   "metadata": {},
   "outputs": [],
   "source": [
    "print(\"본 프로그램은 섭씨온도를 화씨온도로 변환하는 프로그램입니다.\")\n",
    "print(\"변환하고 싶은 섭씨온도를 입력하세요.\")\n",
    "\n",
    "C = input()\n",
    "F = float((C)*1.8)+32\n",
    "\n",
    "print(\"섭씨온도 :\", C)\n",
    "print(\"화씨온도 :\", F)"
   ]
  },
  {
   "cell_type": "code",
   "execution_count": null,
   "id": "bd914c28",
   "metadata": {},
   "outputs": [],
   "source": [
    "print('본 프로그램은 섭씨온도를 화씨온도로 변환하는 프로그램입니다.')\n",
    "print('변환하고 싶은 섭씨온도를 입력하세요.')\n",
    "\n",
    "C = input()\n",
    "F = (float(C)*1.8)+32\n",
    "\n",
    "print('섭씨온도 :', C)\n",
    "print('화씨온도 :', F)"
   ]
  },
  {
   "cell_type": "code",
   "execution_count": null,
   "id": "110291c0",
   "metadata": {},
   "outputs": [],
   "source": [
    "print('본 프로그램은 섭씨온도를 화씨온도로 변환하는 프로그램입니다.')\n",
    "print('변환하고 싶은 섭씨온도를 입력하세요.')\n",
    "\n",
    "celsius = input()\n",
    "fahrenheit = (float(celsius)*1.8)+32\n",
    "\n",
    "print('섭씨온도 :', celsius)\n",
    "print('화씨온도 :', fahrenheit)"
   ]
  },
  {
   "cell_type": "code",
   "execution_count": null,
   "id": "4b803ef9",
   "metadata": {},
   "outputs": [],
   "source": []
  }
 ],
 "metadata": {
  "kernelspec": {
   "display_name": "Python 3",
   "language": "python",
   "name": "python3"
  },
  "language_info": {
   "codemirror_mode": {
    "name": "ipython",
    "version": 3
   },
   "file_extension": ".py",
   "mimetype": "text/x-python",
   "name": "python",
   "nbconvert_exporter": "python",
   "pygments_lexer": "ipython3",
   "version": "3.8.10"
  }
 },
 "nbformat": 4,
 "nbformat_minor": 5
}
